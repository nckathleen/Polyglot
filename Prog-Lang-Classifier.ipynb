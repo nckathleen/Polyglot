{
 "cells": [
  {
   "cell_type": "code",
   "execution_count": 2,
   "metadata": {
    "collapsed": true
   },
   "outputs": [],
   "source": [
    "from collections import Counter, defaultdict, namedtuple\n",
    "from functools import partial\n",
    "from textblob import TextBlob, Word\n",
    "import math, random\n",
    "import csv\n",
    "import re\n",
    "import numpy as np\n",
    "import random\n",
    "import pandas as pd\n",
    "import numpy as np\n",
    "import matplotlib.pyplot as plt\n",
    "from sklearn import linear_model\n",
    "from sklearn.linear_model import LinearRegression\n",
    "from sklearn.naive_bayes import MultinomialNB\n",
    "from sklearn.cross_validation import train_test_split\n",
    "from sklearn.pipeline import make_pipeline, make_union"
   ]
  },
  {
   "cell_type": "code",
   "execution_count": 3,
   "metadata": {
    "collapsed": false
   },
   "outputs": [],
   "source": [
    "%matplotlib inline\n",
    "classifier = MultinomialNB()"
   ]
  },
  {
   "cell_type": "code",
   "execution_count": 25,
   "metadata": {
    "collapsed": false
   },
   "outputs": [
    {
     "name": "stdout",
     "output_type": "stream",
     "text": [
      "# The Computer Language Benchmarks Game\n",
      "# http://benchmarksgame.alioth.debian.org/\n",
      "#\n",
      "# contributed by Antoine Pitrou\n",
      "# modified by Dominique Wahli and Daniel Nanz\n",
      "\n",
      "from __future__ import print_function\n",
      "\n",
      "import sys\n",
      "import multiprocessing as mp\n",
      "\n",
      "\n",
      "def make_tree(i, d):\n",
      " \n",
      "    if d > 0:\n",
      "        i2 = i + i\n",
      "        d -= 1\n",
      "        return (i, make_tree(i2 - 1, d), make_tree(i2, d))\n",
      "    return (i, None, None)\n",
      "\n",
      "\n",
      "def check_tree(node):\n",
      "\n",
      "    (i, l, r) = node\n",
      "    if l is None:\n",
      "        return i\n",
      "    else:\n",
      "        return i + check_tree(l) - check_tree(r)\n",
      "\n",
      "\n",
      "def make_check(itde, make=make_tree, check=check_tree):\n",
      "\n",
      "    i, d = itde\n",
      "    return check(make(i, d))\n",
      "\n",
      "\n",
      "def get_argchunks(i, d, chunksize=5000):\n",
      "    \n",
      "    assert chunksize % 2 == 0\n",
      "    chunk = []\n",
      "    for k in range(1, i + 1):\n",
      "        chunk.extend([(k, d), (-k, d)])\n",
      "        if len(chunk) == chunksize:\n",
      "            yield chunk\n",
      "            chunk = []\n",
      "    if len(chunk) > 0:\n",
      "        yield chunk\n",
      "\n",
      "\n",
      "def main(n, min_depth=4):\n",
      "\n",
      "    max_depth = max(min_depth + 2, n)\n",
      "    stretch_depth = max_depth + 1\n",
      "    if mp.cpu_count() > 1:\n",
      "        pool = mp.Pool()\n",
      "        chunkmap = pool.map\n",
      "    else:\n",
      "        chunkmap = map\n",
      "    \n",
      "    print('stretch tree of depth {0}\\t check: {1}'.format( \n",
      "          stretch_depth, make_check((0, stretch_depth))))\n",
      "\n",
      "    long_lived_tree = make_tree(0, max_depth)\n",
      "    \n",
      "    mmd = max_depth + min_depth\n",
      "    for d in range(min_depth, stretch_depth, 2):\n",
      "        i = 2 ** (mmd - d)\n",
      "        cs = 0\n",
      "        for argchunk in get_argchunks(i,d):\n",
      "            cs += sum(chunkmap(make_check, argchunk))\n",
      "        print('{0}\\t trees of depth {1}\\t check: {2}'.format(i * 2, d, cs))\n",
      "    \n",
      "    print('long lived tree of depth {0}\\t check: {1}'.format( \n",
      "          max_depth, check_tree(long_lived_tree)))\n",
      "\n",
      "\n",
      "if __name__ == '__main__':\n",
      "    main(int(sys.argv[1]))\n",
      "\n"
     ]
    }
   ],
   "source": [
    "input_code = open('data/binarytrees.python3-6.python3', 'r', encoding='utf-8')\n",
    "print(input_code.read())"
   ]
  },
  {
   "cell_type": "code",
   "execution_count": null,
   "metadata": {
    "collapsed": true
   },
   "outputs": [],
   "source": []
  }
 ],
 "metadata": {
  "kernelspec": {
   "display_name": "Python 3",
   "language": "python",
   "name": "python3"
  },
  "language_info": {
   "codemirror_mode": {
    "name": "ipython",
    "version": 3
   },
   "file_extension": ".py",
   "mimetype": "text/x-python",
   "name": "python",
   "nbconvert_exporter": "python",
   "pygments_lexer": "ipython3",
   "version": "3.4.3"
  }
 },
 "nbformat": 4,
 "nbformat_minor": 0
}
